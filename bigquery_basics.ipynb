{
  "nbformat": 4,
  "nbformat_minor": 0,
  "metadata": {
    "colab": {
      "provenance": [],
      "toc_visible": true,
      "include_colab_link": true
    },
    "kernelspec": {
      "name": "python3",
      "display_name": "Python 3"
    }
  },
  "cells": [
    {
      "cell_type": "markdown",
      "metadata": {
        "id": "view-in-github",
        "colab_type": "text"
      },
      "source": [
        "<a href=\"https://colab.research.google.com/github/pozueco/bq_training/blob/main/bigquery_basics.ipynb\" target=\"_parent\"><img src=\"https://colab.research.google.com/assets/colab-badge.svg\" alt=\"Open In Colab\"/></a>"
      ]
    },
    {
      "cell_type": "markdown",
      "metadata": {
        "id": "qKQg7jGtE-Fe"
      },
      "source": [
        "#What is BigQuery"
      ]
    },
    {
      "cell_type": "markdown",
      "metadata": {
        "id": "P8MEFAcKGhLa"
      },
      "source": [
        "BigQuery is a RESTful web service that enables interactive analysis of massive datasets working in conjunction with Google Storage. It is a serverless Software as a Service (SaaS) that may be used complementarily with MapReduce."
      ]
    },
    {
      "cell_type": "markdown",
      "metadata": {
        "id": "gbilEtDyFa_M"
      },
      "source": [
        "# BigQuery object model"
      ]
    },
    {
      "cell_type": "markdown",
      "metadata": {
        "id": "XCl0ipxHHi7b"
      },
      "source": [
        "BigQuery is a structured data store; that is, it divides data into rows and\n",
        "columns. A collection of rows of data is called a *table*, just like in any relational database. Tables have a *schema* describing the columns of data they contain. Tables are grouped into *datasets*, which are logical collections of tables that can be shared. Datasets are owned by projects, which control billing and serve as a global namespace root, meaning all of the object names in BigQuery are relative to the *project*. Finally, all asynchronous operations BigQuery performs on behalf of users are done via jobs:\n",
        "\n",
        "<br>\n",
        "\n",
        "<img src=\"https://lh3.googleusercontent.com/WLeFm1cumybK46GLOsOGEWc3Ty8v-GBiIZzM9dXDe1ZTowacDqfyCjXddLSZA4BxDdt9CFKEXzx9UIcPkG8gx61sRJkDixaV5BimzqQaoS7GEV6SOeMi2-_8a7dVPB1umutORSKCMZCufZIUbDTVhYSea39i3z9uOnJKzZ0aTke2vXxdSJe3GEDNxw745r-Lea5uN_NkH9GR4NbZibxjTjOPOUmzGcun-Yh8Y-eqNRky0QseHx-k9Ch3JFgPrDg4yUxgFSTfjx4nSgEBJmX5V9xWcrEov2MnjuzEjzs6PgfNaxxSEOOuElCzGr_dafNE6VT6ZnNBJ4JkEebbh8VvxWu2qbJ5sFqGnNPB_AjKXCNmKjRGKmY239HS2NXBji6hcLzNY1Ouo9a7ikc3hBjVjxmxeXRpX5eC9npyW3b8O0y6GiclDuZ9VizGcK-T6KV154LSgnGghG-olLzBjcHqbbBnxFnT4g9lpDgLTci9IMYZet4h7u2SHHG35FgLsIbWcr2MLbtSER4LNaoW3rWwWmdWK-ryLxDD-HlT-UKGFG6UMfiw0zctfez4drL7wRYQUnCq2JVRudozLIuJ_ZLtiYmCVqE5NTPmBqpG0bmJTTqTbrjI94ggypWPMfXj2Vu7bBPWCahh8nFWnicdd-YfIrJ9Lyy45uN1RyP1fGlZAUaAwkdF6ugCg8jcF6VvF8UhHtQqMmHFowjxa0lZk6v0LoJDe2b54OXPMQMdPgx6NzoyR5Wg=w611-h355-no\" width=\"250\">"
      ]
    },
    {
      "cell_type": "markdown",
      "metadata": {
        "id": "DzdEn0mfFGCq"
      },
      "source": [
        "# BigQuery UI"
      ]
    },
    {
      "cell_type": "markdown",
      "metadata": {
        "id": "6Zi-wljzHh9V"
      },
      "source": [
        "BigQuery exposes a graphical web UI in the Cloud Console that you can use to create and manage BigQuery resources and to run SQL queries:\n",
        "\n",
        "<br>\n",
        "\n",
        "![alt text](https://lh3.googleusercontent.com/-nCVxXIOpc_SL9dK4zFgk5z_DwWeXpeKT5gj8YPpG6hOnfm6NJJwO3dEK_6xJ9TnSLcl_B8ZTBHjfpjROcaVtGbNEJYJG9B1giWHrQvJfUH7C-iU9QUqT1iWUUSLQBugzFf7jpCXej4sd06niKEm8PM3GGTBA8MEckOTeY7YiWHwCOms1qnxeEn8764twub2_hRmDXQ9FBv7MnH8NEejlePt9-QvihbSsIg-vshZLGQL8znt3bFrm3STUefvZm2l9NtThyI5NwMN-tYm6lai3d7_t_HsDxHp4FjNKDAooWGFwfFdsL2nSkp-K97OAIY7u_voZwZDdJiaRThhl_tPUsUg1SqYNiX75c37LwzWutZSYPP5jn-DEd8vDpfMeWDXW0V8hMekv3GG1NQLm62xTEjwf6JcwswF3z6vJnYYYhV_YcsLMahqbB3XIG-9jSmTJCKoJ7h_htSeZGNnLOVsxk6GjomO8rwS7i36UrkXrjlI7lwcYdOmJLTTcaJaMLYqgzzdAIIU6GOw9r8DJ_zbI6mVWRdxz6RdgKQxM6HkbuQMUf_DKIFEbuAVBbrdnxJmu7wsziBBzPjqINtO8BcQkuQ9Nk9tLyLQExDdLSgb5a4zUrPjdix_n1G-AdI4fiJzD0seGUdkF3G_MyadvJ1sKP2gZmipcFgWPfU5HLQsEXFOPxQzZt22Bsnh7SWabVQkF4Jqna4Y_NKwyUHorsqvqdIysz-YJ_liZY3Xx6Zb_BBEg636=w1362-h603-no)\n",
        "\n",
        "<br>\n",
        "\n",
        "The BigQuery web UI has the following sections:\n",
        "\n",
        "<br>\n",
        "\n",
        "* The project selector shows the current project. All of your work within the project is charged to the billing account attached to the project. \n",
        "\n",
        "* The project menu contains a list of BigQuery resources you can view.\n",
        "\n",
        "* The resources panel will contain the list of projects available with their datasets and tables. \n",
        "\n",
        "* The query editor appears above the details panel when you click on Compose Query. Click Hide Editor to hide the editor when you no longer need it.\n",
        "\n",
        "* Below the query editor, several actions to run the query is also available.\n",
        "\n",
        "* The results panel contains information appropriate to the selected action in the navigation panel. For example, if you click a dataset in the navigation panel, the details panel displays information about the dataset.\n",
        "\n",
        "* Above the results panel, several actions can also be performed.\n"
      ]
    },
    {
      "cell_type": "markdown",
      "metadata": {
        "id": "_ZwMZmOwF0P2"
      },
      "source": [
        "# Starting with BigQuery"
      ]
    },
    {
      "cell_type": "markdown",
      "metadata": {
        "id": "U_daN3mMHjeL"
      },
      "source": [
        "\n",
        "1. In the Cloud Console, on the project selector page, select or create a Google Cloud project.\n",
        "\n",
        "2. The BigQuery web UI provides an interface to query tables, including public datasets offered by BigQuery. In this example we are going to use the Google Analytics [sample dataset](https://support.google.com/analytics/answer/7586738?hl=en):\n",
        "\n",
        "<br>\n",
        "\n",
        "<center>\n",
        "\n",
        "<img src=\"https://lh3.googleusercontent.com/X3dCYpS6sNkC-vm5AnMPk54nGAHIJHhyoQzmmCCX66Qx8HyhCpfl8THcqluypCPmEvoZOnPm_Wx5Sve8yWyjejzHlaybE5ATqQEfdj3hujay5LmU39mCXR1FXjqxyikqwWWOlL0KnUq_qjv9mVCsQAXIkB20NQv92vhI1wP7i_GvLvrWq1HkmmTaDZLj0EVvtAHccx3K6qZtOu9zXFhRUuhsVDcEmA4zTT4Sf4pSe6Rgy7IR7j2YfaYfnkCicO6Em4_8uepjItl4Ad7pa9ehDEOfXJbA4zwp3cpA7kcZn1S6zKQA_eIIEr3mzndeDus3CWW9E7OmXsX4tB45Z7HNT6W9vhhxB_nNlfnAE2u6pFLi7VpeLFXwlc37KAZCaAAYZZqcUJtuhtVt6_mf-D_6PbJL04JkaE9aPOSPhTPxnd6dCDay3QKtRp2MsjYQcizxr0IUWsYP6gFXpTM864iwPjnQauY5xkeclQfCKRFCxZhIurgrSx7rw3WH_x7W3dWn2F4SXarWbV97U7XmNrzOBMu_3BDlWC2ggkBF7ReJ8MI2Wv_ukA6qtQHKkmypJyKfr3Va1IDh25ppX2olhjJRF3gIJErorBc6ecscX7VZ5VsSgK-AD0WX1RcQ_-P3VqKYqTkXTsM7uLW0Wvn8XJIEP-STqbWMrDFXsKKO0pVNybYMpx4Z7gljUSvM0e3NabSJfz-mRNC-9-1Ct4A24HMLloyyYI5oN6qd67NoafpP1x7BYrg5=w290-h426-no\" width=\"200\" >\n",
        "\n",
        "</center>\n",
        "\n",
        "</br>\n",
        "\n",
        "3. At the top right of the window, click Compose new query. If this text is dimmed, then the Query editor is already open:\n",
        "\n",
        "<br>\n",
        "\n",
        "<center>\n",
        "\n",
        "<img src=\"https://lh3.googleusercontent.com/Cl-ghyS5X4_QZgadnnEuUGLZbPHluRwhKJAM7chPWMUyxsklnRa4_PZmeXPWMauMCulLrhevURVnoOhhnfnuYtp1VyqhxIbcjVWvkTBGyYFoPve6p_qZ2X85DfFSgP2wMI9Uan-4B7JXLGQde5F17FLX5s6ZexYCoSEsfZCB3deZLoA_0BIKnsnzz5tmqu42CJxTnoFnYbW90cQA0NOXtfLSjIx_pVrxsW7cKEmoIeUfyNP_OCfjlM-9iCktrbry_VkIB-jI0j_tLx4M_NbOuYQueFxJyptY2hWDg4uTn0UOGJfZOOSBGR17yTvi9weokpmIRszLmrFxInSzgx_BK41-5lhTco-D4nf9uhuHfi1lyAOH8ROidj7DQCLvzoXjih1ytqk0vXaDk_Z3vdpY9dXEWGEFGLqH-37gT83lj-NhshojFa7Zsf7TsKvbyewuTHu-06zH5ERn2eFhdaVljIR0ab_v7E7AqkNYDr5yFdukStBjQCqraOHRf2bbY_9hX91j3J1YRQDxLs9_FEmaiZJ8ok0QvX8T0SwCVT_s4zkWeH91tHIbGDsn-zeMu4TSFsgjUWPEFtaMLq-QrI4WCUtwpyULLHkPRlkh9C_NW8bE6ZbdzNwpO02WmQzMxR5O6mFPbcuIM7vurHhh8tb7a3LRBENjBHZJhojIFWoImfJV9NfyMiEB_Osf4gidzw9unL9jZYRUac2Z-eoI0CN4Y9n3UMV3rT_n0WSCuxS2eVlw6eu2=w682-h224-no\" width=\"400\" >\n",
        "\n",
        "</center>\n",
        "\n",
        "</br>\n",
        "\n",
        "4. Copy and paste the following query into the query text area:"
      ]
    },
    {
      "cell_type": "code",
      "metadata": {
        "id": "lh419zp6yvbI"
      },
      "source": [
        "SELECT\n",
        "  fullVisitorId, visitStartTime\n",
        "FROM\n",
        "  `bigquery-public-data.google_analytics_sample.ga_sessions_20170801`\n",
        "ORDER BY\n",
        "  fullVisitorId, visitStartTime\n",
        "LIMIT\n",
        "  1000"
      ],
      "execution_count": null,
      "outputs": []
    },
    {
      "cell_type": "markdown",
      "metadata": {
        "id": "Fi2FzT_ByN-A"
      },
      "source": [
        "This query can also be run from this notebook after authenticating:"
      ]
    },
    {
      "cell_type": "code",
      "metadata": {
        "id": "xa9Dn8BcyAMY",
        "colab": {
          "base_uri": "https://localhost:8080/",
          "height": 34
        },
        "outputId": "399f6a56-05cb-4cc5-f5cb-cb7929e0c0e6"
      },
      "source": [
        "from google.colab import auth\n",
        "auth.authenticate_user()\n",
        "print('Authenticated')"
      ],
      "execution_count": null,
      "outputs": [
        {
          "output_type": "stream",
          "text": [
            "Authenticated\n"
          ],
          "name": "stdout"
        }
      ]
    },
    {
      "cell_type": "code",
      "metadata": {
        "id": "4qnjpW5UxPDm",
        "colab": {
          "base_uri": "https://localhost:8080/",
          "height": 419
        },
        "outputId": "ec4e63b9-83e6-4d9e-c272-8ab62524248d"
      },
      "source": [
        "%%bigquery --project jfdev-jellyfish-poc\n",
        "SELECT\n",
        "  fullVisitorId, visitStartTime\n",
        "FROM\n",
        "  `bigquery-public-data.google_analytics_sample.ga_sessions_20170801`\n",
        "ORDER BY\n",
        "  fullVisitorId, visitStartTime\n",
        "LIMIT\n",
        "  1000"
      ],
      "execution_count": null,
      "outputs": [
        {
          "output_type": "execute_result",
          "data": {
            "text/html": [
              "<div>\n",
              "<style scoped>\n",
              "    .dataframe tbody tr th:only-of-type {\n",
              "        vertical-align: middle;\n",
              "    }\n",
              "\n",
              "    .dataframe tbody tr th {\n",
              "        vertical-align: top;\n",
              "    }\n",
              "\n",
              "    .dataframe thead th {\n",
              "        text-align: right;\n",
              "    }\n",
              "</style>\n",
              "<table border=\"1\" class=\"dataframe\">\n",
              "  <thead>\n",
              "    <tr style=\"text-align: right;\">\n",
              "      <th></th>\n",
              "      <th>fullVisitorId</th>\n",
              "      <th>visitStartTime</th>\n",
              "    </tr>\n",
              "  </thead>\n",
              "  <tbody>\n",
              "    <tr>\n",
              "      <th>0</th>\n",
              "      <td>0004915997121163857</td>\n",
              "      <td>1501620292</td>\n",
              "    </tr>\n",
              "    <tr>\n",
              "      <th>1</th>\n",
              "      <td>0013182148727187801</td>\n",
              "      <td>1501580378</td>\n",
              "    </tr>\n",
              "    <tr>\n",
              "      <th>2</th>\n",
              "      <td>0015547161740087073</td>\n",
              "      <td>1501625964</td>\n",
              "    </tr>\n",
              "    <tr>\n",
              "      <th>3</th>\n",
              "      <td>0017557475227585700</td>\n",
              "      <td>1501610006</td>\n",
              "    </tr>\n",
              "    <tr>\n",
              "      <th>4</th>\n",
              "      <td>0018642067897203467</td>\n",
              "      <td>1501622515</td>\n",
              "    </tr>\n",
              "    <tr>\n",
              "      <th>...</th>\n",
              "      <td>...</td>\n",
              "      <td>...</td>\n",
              "    </tr>\n",
              "    <tr>\n",
              "      <th>995</th>\n",
              "      <td>379615076986635056</td>\n",
              "      <td>1501603132</td>\n",
              "    </tr>\n",
              "    <tr>\n",
              "      <th>996</th>\n",
              "      <td>3796379414179037163</td>\n",
              "      <td>1501635610</td>\n",
              "    </tr>\n",
              "    <tr>\n",
              "      <th>997</th>\n",
              "      <td>3800266955937177725</td>\n",
              "      <td>1501657186</td>\n",
              "    </tr>\n",
              "    <tr>\n",
              "      <th>998</th>\n",
              "      <td>3809164675881912585</td>\n",
              "      <td>1501601382</td>\n",
              "    </tr>\n",
              "    <tr>\n",
              "      <th>999</th>\n",
              "      <td>3815871479937073433</td>\n",
              "      <td>1501584280</td>\n",
              "    </tr>\n",
              "  </tbody>\n",
              "</table>\n",
              "<p>1000 rows × 2 columns</p>\n",
              "</div>"
            ],
            "text/plain": [
              "           fullVisitorId  visitStartTime\n",
              "0    0004915997121163857      1501620292\n",
              "1    0013182148727187801      1501580378\n",
              "2    0015547161740087073      1501625964\n",
              "3    0017557475227585700      1501610006\n",
              "4    0018642067897203467      1501622515\n",
              "..                   ...             ...\n",
              "995   379615076986635056      1501603132\n",
              "996  3796379414179037163      1501635610\n",
              "997  3800266955937177725      1501657186\n",
              "998  3809164675881912585      1501601382\n",
              "999  3815871479937073433      1501584280\n",
              "\n",
              "[1000 rows x 2 columns]"
            ]
          },
          "metadata": {
            "tags": []
          },
          "execution_count": 6
        }
      ]
    },
    {
      "cell_type": "markdown",
      "metadata": {
        "id": "H1BtosOMxPMB"
      },
      "source": [
        "5. In the lower right of the window, click the green check mark to view the query validator. A green check mark icon is displayed if the query is valid. If the query is invalid, a red exclamation point icon is displayed. If the query is valid, the validator also shows the amount of data the query will process when you run it. The data processed is helpful for determining the cost of running the query:\n",
        "\n",
        "<br>\n",
        "\n",
        "<center>\n",
        "\n",
        "<img src=\"https://lh3.googleusercontent.com/AXk-UPddBULEJ_fb0gGq7MX1A7S4eaLFg-bmNmhTIIcBDQlVb2r0VyMi3D5Q8Wr0lL5itl4PC2cl1cr6kbM4IioLJOxd3X9PkYAVqhZgfcWBnSw3_KXb1r6KqycRM8_YAPXaQb_hOkMnqLLy0HvO5r3F50gQYdSyfeuhuBYh19RM1wS-R9Rdmwz2Ff1K1P1hgs3EKgghRz23aRl8o4lgPizeK2sqgu4Ah4XrLtQTL3kk1219gmOnjRm1Yb5mlaaFGmlsiZ8eVbQqd7ow9LPkSn-sER-4wvymurS32Uw1wcHyNaW6WW4j_vn1_TukHf2BF7rhz7HiUVBP0pIqrjzwl0m6-1T2mPslPogpaN50PX1BO2pK9Z2uCeFUpbFqV7hFc7i4sLsY2Ibb__aZUvjJqh703MecDa3hlZ98mWbQSz_bRYxxTo-BYPkJp0c4XFPCdQrz5MqwHYhHU2gn3VcKn8-jmkLKIWO4eNtg6AoRWiG1XjABZpDserE8LKwQLfwEWh_ZRqV3RsoJyCSujzOoc54EOjF4aKivc8zACbF8s-mF4oZhf2_7Bv2no7nHkJXvhQ_2bvwXtvwyD0Fz1g1dSGU8i0wPla454iO3mHECmM2q-MFcsTpSJdSYe7YebyeyKC7ldSQAXtgXIqsxDWs6veD7qfDuzD9CUP1cmGE-ClPut2eDP0Ygb4s=w260-h124-no\" width=\"200\">\n",
        "\n",
        "</center>\n",
        "\n",
        "</br>\n",
        "\n",
        "6. Click Run. The query results page displays below the query window. At the top of the query results page, the time elapsed and the data processed by the query are displayed. Below the query complete message, a table displays the query results with a header row containing the name of each column you selected in the query: \n",
        "\n",
        "<br>\n",
        "\n",
        "<center>\n",
        "\n",
        "<img src=\"https://lh3.googleusercontent.com/XeZJR8KnO9Ew-OTPZKbeUprqrO2UPL4vFZEPfrkLSsRZxzgDH1JVO7aJ2br-IZ9vNsTFChFSI2ow_lCWkTzAL2bee9bSWQF1Zwz-vBFGHh-aeNaJRid1dH6v9pChQi-vwsp8hPPqG1y2HrcgouMyW468PQe_5j1mLkSxQK06Cp-OkiUGijq4vmLHN60Mp9j_uHICFybuj8IeKnj2ju1OD6y8JNdAC2-wbdL9NtOyhtSntNJti93XMx2O2so_N10vdlcgKojv7M3kQhgO31zaZxCs5vr7lbCXeX5P8FfOS398jjDysmp8WBihOkkBpqI8Hz8PsK0uss4q40p3T7GyNbEiLPmDu4n5HxG-P8xY7CTKkUSRcEgyyet6fYykNoEbKVh4xi1WdCgVGWZGhfEGrDmu-7XRCUwG9Gn7rGXNFzv1uyOA8GXADQyNd19N_X-HJ1Ume5YSVFq8DkPGYKmi1P3Ay8uP4qu8wt8WtbiSdIKgphE6c7v480h-0PQju9ihR4h1Gf5uaGWfyNKdJk5pikti2Mqo9snvHDsOtRPa2ETdwvUCbY7KdPktD2H1DMrNZzEIFG0g0lzMe0oT2V-Piy0UFculOJsHJjbhIwLhmuC4SObZFlzvewiCoVzq-s-JKLfur4oqHb0y_BvbPakQMDGJDlhlnj12Edbcm0cpLu4P9qdySxk5WEn5EaELO4ATDrAbM7B334TgO8-tPI3q5tD-lw3PhUjyxFITq7qqQHzBQJrP=w522-h654-no\" width=\"300\">\n",
        "\n",
        "</center>\n",
        "\n",
        "</br>\n"
      ]
    }
  ]
}